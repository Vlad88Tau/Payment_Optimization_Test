{
 "cells": [
  {
   "cell_type": "markdown",
   "metadata": {},
   "source": [
   ]
  },
  {
   "cell_type": "markdown",
   "metadata": {},
   "source": [
    "Задание 1. A/B–тестирование"
   ]
  },
  {
   "cell_type": "markdown",
   "metadata": {},
   "source": [
    "1.1 Условие\n",
    "\n",
    "Одной из основных задач аналитика в нашей команде является корректное проведение экспериментов. Для этого мы применяем метод A/B–тестирования. В ходе тестирования одной гипотезы целевой группе была предложена новая механика оплаты услуг на сайте, у контрольной группы оставалась базовая механика. В качестве задания вам необходимо проанализировать итоги эксперимента и сделать вывод, стоит ли запускать новую механику оплаты на всех пользователей."
   ]
  },
  {
   "cell_type": "markdown",
   "metadata": {},
   "source": [
    "1.2 Входные данные\n",
    "\n",
    "В качестве входных данных вы имеете 4 csv-файла:\n",
    "\n",
    "groups.csv – файл с информацией о принадлежности пользователя к контрольной или экспериментальной группе (А – контроль, B – целевая группа)                                  \n",
    "groups_add.csv – дополнительный файл с пользователями, который вам прислали спустя 2 дня после передачи данных                \n",
    "active_studs.csv – файл с информацией о пользователях, которые зашли на платформу в дни проведения эксперимента.               \n",
    "checks.csv – файл с информацией об оплатах пользователей в дни проведения эксперимента. "
   ]
  },
  {
   "cell_type": "markdown",
   "metadata": {},
   "source": [
    "1.3 Вопросы\n",
    "\n",
    "Предлагаем вам ответить на следующие вопросы:\n",
    "\n",
    "На какие метрики вы смотрите в ходе анализа и почему?\n",
    "Имеются ли различия в показателях и с чем они могут быть связаны?\n",
    "Являются ли эти различия статистически значимыми?\n",
    "Стоит ли запускать новую механику на всех пользователей?\n",
    "Данный список вопросов не является обязательным, и вы можете при своём ответе опираться на собственный план."
   ]
  },
  {
   "cell_type": "markdown",
   "metadata": {},
   "source": [
    "1.4 Требования к ответу\n",
    "\n",
    "При выполнении тестового задания необходимо использовать язык программирования Python. \n",
    "В файле обязательно должны быть комментарии к тем действиям, которые вы выполняете с данными. \n",
    "Файл должен представлять собой законченный отчёт с выводами, сделанными в ходе исследования."
   ]
  },
  {
   "cell_type": "code",
   "execution_count": 91,
   "metadata": {},
   "outputs": [],
   "source": [
    "import pandas as pd\n",
    "import io\n",
    "from urllib.parse import urlencode\n",
    "import json\n",
    "import numpy as np\n",
    "import matplotlib.pyplot as plt\n",
    "import seaborn as sns\n",
    "from tqdm import tqdm\n",
    "from scipy.stats import norm\n",
    "from scipy import stats\n",
    "import pandahouse as ph\n",
    "import requests"
   ]
  },
  {
   "cell_type": "markdown",
   "metadata": {},
   "source": [
    "Создал функцию,которая загружает и читает файлы с Yandex.Disk, используя API, и сохраняет содержимое каждого файла в отдельную переменную в формате DataFrame pandas. Каждый DataFrame содержит данные из соответствующего файла."
   ]
  },
  {
   "cell_type": "code",
   "execution_count": 92,
   "metadata": {},
   "outputs": [],
   "source": [
    "oauth_token = 'OAuth y0_AgAAAABohyeeAAwl8QAAAAELXbErAAAA8kTSr2RK5oqb9pm7HPVkfzTBOQ'\n",
    "base_url = 'https://cloud-api.yandex.net/v1/disk/public/resources/download?'\n",
    "\n",
    "public_keys = ['https://disk.yandex.ru/d/UhyYx41rTt3clQ', \n",
    "               'https://disk.yandex.ru/d/Tbs44Bm6H_FwFQ', \n",
    "               'https://disk.yandex.ru/d/pH1q-VqcxXjsVA',\n",
    "               'https://disk.yandex.ru/d/5Kxrz02m3IBUwQ']\n",
    "\n",
    "for idx, public_key in enumerate(public_keys):\n",
    "    final_url = base_url + urlencode({'public_key': public_key})\n",
    "    headers = {'Authorization': f'OAuth {oauth_token}'}\n",
    "    \n",
    "    response = requests.get(final_url, headers=headers)\n",
    "    \n",
    "    if response.status_code == 200:\n",
    "        download_url = json.loads(response.text)['href']\n",
    "        \n",
    "        # Скачиваем содержимое файла\n",
    "        file_response = requests.get(download_url)\n",
    "        \n",
    "        # Создаем объект BytesIO из содержимого файла\n",
    "        file_content = io.BytesIO(file_response.content)\n",
    "        \n",
    "        # Устанавливаем разделитель только для определенных файлов\n",
    "        if idx < len(public_keys) - 1:\n",
    "            sep = ';'\n",
    "        else:\n",
    "            sep = ','  # Установите разделитель для последнего файла\n",
    "        \n",
    "        # Считываем содержимое файла как CSV\n",
    "        globals()[f'Data{idx+1}'] = pd.read_csv(file_content, sep=sep)\n"
   ]
  },
  {
   "cell_type": "code",
   "execution_count": 93,
   "metadata": {},
   "outputs": [],
   "source": [
    "groups = Data1\n",
    "active_studs = Data2\n",
    "checks = Data3\n",
    "groups_add = Data4"
   ]
  },
  {
   "cell_type": "markdown",
   "metadata": {},
   "source": [
    "У нас есть четыре файла необходимо провести EDA с целью выявления закономерностей, трендов, аномалий и паттернов. "
   ]
  },
  {
   "cell_type": "markdown",
   "metadata": {},
   "source": [
    "Количество строк и столбцов"
   ]
  },
  {
   "cell_type": "code",
   "execution_count": 94,
   "metadata": {},
   "outputs": [
    {
     "data": {
      "text/plain": [
       "(74484, 2)"
      ]
     },
     "execution_count": 94,
     "metadata": {},
     "output_type": "execute_result"
    }
   ],
   "source": [
    "groups.shape"
   ]
  },
  {
   "cell_type": "code",
   "execution_count": 95,
   "metadata": {},
   "outputs": [
    {
     "data": {
      "text/plain": [
       "(92, 2)"
      ]
     },
     "execution_count": 95,
     "metadata": {},
     "output_type": "execute_result"
    }
   ],
   "source": [
    "groups_add.shape"
   ]
  },
  {
   "cell_type": "code",
   "execution_count": 96,
   "metadata": {},
   "outputs": [
    {
     "data": {
      "text/plain": [
       "(8341, 1)"
      ]
     },
     "execution_count": 96,
     "metadata": {},
     "output_type": "execute_result"
    }
   ],
   "source": [
    "active_studs.shape"
   ]
  },
  {
   "cell_type": "code",
   "execution_count": 97,
   "metadata": {},
   "outputs": [
    {
     "data": {
      "text/plain": [
       "(541, 2)"
      ]
     },
     "execution_count": 97,
     "metadata": {},
     "output_type": "execute_result"
    }
   ],
   "source": [
    "checks.shape"
   ]
  },
  {
   "cell_type": "markdown",
   "metadata": {},
   "source": [
    "Информация о типах данных"
   ]
  },
  {
   "cell_type": "code",
   "execution_count": 98,
   "metadata": {},
   "outputs": [
    {
     "data": {
      "text/plain": [
       "id      int64\n",
       "grp    object\n",
       "dtype: object"
      ]
     },
     "execution_count": 98,
     "metadata": {},
     "output_type": "execute_result"
    }
   ],
   "source": [
    "groups.dtypes "
   ]
  },
  {
   "cell_type": "code",
   "execution_count": 99,
   "metadata": {},
   "outputs": [
    {
     "data": {
      "text/plain": [
       "id      int64\n",
       "grp    object\n",
       "dtype: object"
      ]
     },
     "execution_count": 99,
     "metadata": {},
     "output_type": "execute_result"
    }
   ],
   "source": [
    "groups_add.dtypes"
   ]
  },
  {
   "cell_type": "code",
   "execution_count": 100,
   "metadata": {},
   "outputs": [
    {
     "data": {
      "text/plain": [
       "student_id    int64\n",
       "dtype: object"
      ]
     },
     "execution_count": 100,
     "metadata": {},
     "output_type": "execute_result"
    }
   ],
   "source": [
    "active_studs.dtypes"
   ]
  },
  {
   "cell_type": "code",
   "execution_count": 101,
   "metadata": {},
   "outputs": [
    {
     "data": {
      "text/plain": [
       "student_id      int64\n",
       "rev           float64\n",
       "dtype: object"
      ]
     },
     "execution_count": 101,
     "metadata": {},
     "output_type": "execute_result"
    }
   ],
   "source": [
    "checks.dtypes"
   ]
  },
  {
   "cell_type": "markdown",
   "metadata": {},
   "source": [
    "Количество пропущенных значений"
   ]
  },
  {
   "cell_type": "code",
   "execution_count": 102,
   "metadata": {},
   "outputs": [
    {
     "data": {
      "text/plain": [
       "id     0\n",
       "grp    0\n",
       "dtype: int64"
      ]
     },
     "execution_count": 102,
     "metadata": {},
     "output_type": "execute_result"
    }
   ],
   "source": [
    "groups.isna().sum()"
   ]
  },
  {
   "cell_type": "code",
   "execution_count": 103,
   "metadata": {},
   "outputs": [
    {
     "data": {
      "text/plain": [
       "id     0\n",
       "grp    0\n",
       "dtype: int64"
      ]
     },
     "execution_count": 103,
     "metadata": {},
     "output_type": "execute_result"
    }
   ],
   "source": [
    "groups_add.isna().sum()"
   ]
  },
  {
   "cell_type": "code",
   "execution_count": 104,
   "metadata": {},
   "outputs": [
    {
     "data": {
      "text/plain": [
       "student_id    0\n",
       "dtype: int64"
      ]
     },
     "execution_count": 104,
     "metadata": {},
     "output_type": "execute_result"
    }
   ],
   "source": [
    "active_studs.isna().sum()"
   ]
  },
  {
   "cell_type": "code",
   "execution_count": 105,
   "metadata": {},
   "outputs": [
    {
     "data": {
      "text/plain": [
       "student_id    0\n",
       "rev           0\n",
       "dtype: int64"
      ]
     },
     "execution_count": 105,
     "metadata": {},
     "output_type": "execute_result"
    }
   ],
   "source": [
    "checks.isna().sum()"
   ]
  },
  {
   "cell_type": "markdown",
   "metadata": {},
   "source": [
    "Количество дублей"
   ]
  },
  {
   "cell_type": "code",
   "execution_count": 106,
   "metadata": {},
   "outputs": [
    {
     "data": {
      "text/plain": [
       "0"
      ]
     },
     "execution_count": 106,
     "metadata": {},
     "output_type": "execute_result"
    }
   ],
   "source": [
    "groups.duplicated().sum()"
   ]
  },
  {
   "cell_type": "code",
   "execution_count": 107,
   "metadata": {},
   "outputs": [
    {
     "data": {
      "text/plain": [
       "0"
      ]
     },
     "execution_count": 107,
     "metadata": {},
     "output_type": "execute_result"
    }
   ],
   "source": [
    "groups_add.duplicated().sum()"
   ]
  },
  {
   "cell_type": "code",
   "execution_count": 108,
   "metadata": {},
   "outputs": [
    {
     "data": {
      "text/plain": [
       "0"
      ]
     },
     "execution_count": 108,
     "metadata": {},
     "output_type": "execute_result"
    }
   ],
   "source": [
    "active_studs.duplicated().sum()"
   ]
  },
  {
   "cell_type": "code",
   "execution_count": 109,
   "metadata": {},
   "outputs": [
    {
     "data": {
      "text/plain": [
       "0"
      ]
     },
     "execution_count": 109,
     "metadata": {},
     "output_type": "execute_result"
    }
   ],
   "source": [
    "checks.duplicated().sum()"
   ]
  },
  {
   "cell_type": "markdown",
   "metadata": {},
   "source": [
    "Количество уникальных значений по всем столбцам"
   ]
  },
  {
   "cell_type": "code",
   "execution_count": 110,
   "metadata": {},
   "outputs": [
    {
     "data": {
      "text/plain": [
       "74486"
      ]
     },
     "execution_count": 110,
     "metadata": {},
     "output_type": "execute_result"
    }
   ],
   "source": [
    "groups.nunique().sum()"
   ]
  },
  {
   "cell_type": "code",
   "execution_count": 111,
   "metadata": {},
   "outputs": [
    {
     "data": {
      "text/plain": [
       "94"
      ]
     },
     "execution_count": 111,
     "metadata": {},
     "output_type": "execute_result"
    }
   ],
   "source": [
    "groups_add.nunique().sum()"
   ]
  },
  {
   "cell_type": "code",
   "execution_count": 112,
   "metadata": {},
   "outputs": [
    {
     "data": {
      "text/plain": [
       "8341"
      ]
     },
     "execution_count": 112,
     "metadata": {},
     "output_type": "execute_result"
    }
   ],
   "source": [
    "active_studs.nunique().sum()"
   ]
  },
  {
   "cell_type": "code",
   "execution_count": 113,
   "metadata": {},
   "outputs": [
    {
     "data": {
      "text/plain": [
       "580"
      ]
     },
     "execution_count": 113,
     "metadata": {},
     "output_type": "execute_result"
    }
   ],
   "source": [
    "checks.nunique().sum()"
   ]
  },
  {
   "cell_type": "markdown",
   "metadata": {},
   "source": [
    "Подсчет количества А и В элеменов по группам"
   ]
  },
  {
   "cell_type": "code",
   "execution_count": 114,
   "metadata": {},
   "outputs": [
    {
     "data": {
      "text/plain": [
       "id     14671\n",
       "grp    14671\n",
       "dtype: int64"
      ]
     },
     "execution_count": 114,
     "metadata": {},
     "output_type": "execute_result"
    }
   ],
   "source": [
    "groups.query(\"grp == 'A'\").count()"
   ]
  },
  {
   "cell_type": "code",
   "execution_count": 115,
   "metadata": {},
   "outputs": [
    {
     "data": {
      "text/plain": [
       "id     59813\n",
       "grp    59813\n",
       "dtype: int64"
      ]
     },
     "execution_count": 115,
     "metadata": {},
     "output_type": "execute_result"
    }
   ],
   "source": [
    "groups.query(\"grp == 'B'\").count()"
   ]
  },
  {
   "cell_type": "code",
   "execution_count": 116,
   "metadata": {},
   "outputs": [
    {
     "data": {
      "text/plain": [
       "id     22\n",
       "grp    22\n",
       "dtype: int64"
      ]
     },
     "execution_count": 116,
     "metadata": {},
     "output_type": "execute_result"
    }
   ],
   "source": [
    "groups_add.query(\"grp == 'A'\").count()"
   ]
  },
  {
   "cell_type": "code",
   "execution_count": 117,
   "metadata": {},
   "outputs": [
    {
     "data": {
      "text/plain": [
       "id     70\n",
       "grp    70\n",
       "dtype: int64"
      ]
     },
     "execution_count": 117,
     "metadata": {},
     "output_type": "execute_result"
    }
   ],
   "source": [
    "groups_add.query(\"grp == 'B'\").count()"
   ]
  },
  {
   "cell_type": "markdown",
   "metadata": {},
   "source": [
    "Распределение по группам А и В в процентах"
   ]
  },
  {
   "cell_type": "code",
   "execution_count": 118,
   "metadata": {},
   "outputs": [
    {
     "data": {
      "text/plain": [
       "B    80.303152\n",
       "A    19.696848\n",
       "Name: grp, dtype: float64"
      ]
     },
     "execution_count": 118,
     "metadata": {},
     "output_type": "execute_result"
    }
   ],
   "source": [
    "(groups.grp.value_counts() / groups.shape[0]).mul(100)"
   ]
  },
  {
   "cell_type": "code",
   "execution_count": 119,
   "metadata": {},
   "outputs": [
    {
     "data": {
      "text/plain": [
       "B    76.086957\n",
       "A    23.913043\n",
       "Name: grp, dtype: float64"
      ]
     },
     "execution_count": 119,
     "metadata": {},
     "output_type": "execute_result"
    }
   ],
   "source": [
    "(groups_add.grp.value_counts() / groups_add.shape[0]).mul(100)"
   ]
  },
  {
   "cell_type": "markdown",
   "metadata": {},
   "source": [
    "Изучение описательной статистики по столбцу 'rev'"
   ]
  },
  {
   "cell_type": "code",
   "execution_count": 120,
   "metadata": {},
   "outputs": [
    {
     "data": {
      "text/plain": [
       "count     541.000000\n",
       "mean     1059.752317\n",
       "std       762.712359\n",
       "min       199.000000\n",
       "25%       290.000000\n",
       "50%       840.000000\n",
       "75%      1900.000000\n",
       "max      4650.000000\n",
       "Name: rev, dtype: float64"
      ]
     },
     "execution_count": 120,
     "metadata": {},
     "output_type": "execute_result"
    }
   ],
   "source": [
    "checks.rev.describe()"
   ]
  },
  {
   "cell_type": "markdown",
   "metadata": {},
   "source": [
    "В наших данных отсутствуют дубликаты пользователей и пропущенные значения, а также формат данных соответствует необходимому типу. Для того,чтобы в итоговый файл не попали не активные пользователи сделавшие покупку. Необходимо правильно оценить и соединить файлы. \n"
   ]
  },
  {
   "cell_type": "markdown",
   "metadata": {},
   "source": [
    "Датасет groups.csv содержит информацию о всех пользователях и их принадлежности к контрольной или экспериментальной группе. Датасет active_studs.csv содержит информацию о пользователях, которые зашли на платформу в день эксперимента. Файл groups_add.csv, хотя и маленький по размеру, также содержит информацию о пользователях, но не указывает за какой день и в каком эксперименте они участвуют. Наконец, датасет checks.csv содержит информацию об оплатах, совершенных в день эксперимента.\n",
    "Для дальнейшего анализа необходимо объединить данные из этих четых датасетов, чтобы идентифицировать пользователей, участвующих в эксперименте, определить их принадлежность к группе А или В, а также выяснить, совершали ли они оплату в день эксперимента.\n",
    "Объединить датасеты можно по колонке являющейся уникальным признаком объекта и называющейся по-разному в датасетах ('student_id','id')."
   ]
  },
  {
   "cell_type": "code",
   "execution_count": 121,
   "metadata": {},
   "outputs": [],
   "source": [
    "# Переименовываю колонку с уникальными признаками во всех датасетах в unique_id\n",
    "groups.rename(columns={'id': 'unique_id'}, inplace=True)\n",
    "active_studs.rename(columns={'student_id': 'unique_id'}, inplace=True)\n",
    "checks.rename(columns={'student_id': 'unique_id'}, inplace=True)\n",
    "groups_add.rename(columns={'id': 'unique_id'}, inplace=True)"
   ]
  },
  {
   "cell_type": "markdown",
   "metadata": {},
   "source": [
    "Создаем из имеющихся файлов два новых датафрейма:\n",
    "\n",
    "merge_2 - поможет нам оценить CR - соотношение между количеством пользователей и тех кто совершившил целевое действие.\n",
    "\n",
    "merge_3 - активные пользователи совершившие покупку в день эксперимента. Позволит нам оценить ARPPU. "
   ]
  },
  {
   "cell_type": "markdown",
   "metadata": {},
   "source": [
    "Под проверкой на баги я понимаю следующее: не активных пользователей надо выбросить. Пользователь должен быть активным и совершить покупку в процессе эксперимента. Те кто не был активным, но оплата произошла - предположительно автоматическая плата в месяц или баг. Так же в датафрейме не должно быть дублей, пропусков. "
   ]
  },
  {
   "cell_type": "code",
   "execution_count": 122,
   "metadata": {},
   "outputs": [
    {
     "data": {
      "text/plain": [
       "Index(['unique_id', 'grp'], dtype='object')"
      ]
     },
     "execution_count": 122,
     "metadata": {},
     "output_type": "execute_result"
    }
   ],
   "source": [
    "# Успешно переименовал\n",
    "groups.columns"
   ]
  },
  {
   "cell_type": "code",
   "execution_count": 123,
   "metadata": {},
   "outputs": [
    {
     "data": {
      "text/plain": [
       "Index(['unique_id'], dtype='object')"
      ]
     },
     "execution_count": 123,
     "metadata": {},
     "output_type": "execute_result"
    }
   ],
   "source": [
    "active_studs.columns"
   ]
  },
  {
   "cell_type": "code",
   "execution_count": 124,
   "metadata": {},
   "outputs": [
    {
     "data": {
      "text/plain": [
       "Index(['unique_id', 'rev'], dtype='object')"
      ]
     },
     "execution_count": 124,
     "metadata": {},
     "output_type": "execute_result"
    }
   ],
   "source": [
    "checks.columns"
   ]
  },
  {
   "cell_type": "code",
   "execution_count": 125,
   "metadata": {},
   "outputs": [
    {
     "data": {
      "text/plain": [
       "Index(['unique_id', 'grp'], dtype='object')"
      ]
     },
     "execution_count": 125,
     "metadata": {},
     "output_type": "execute_result"
    }
   ],
   "source": [
    "groups_add.columns"
   ]
  },
  {
   "cell_type": "code",
   "execution_count": 126,
   "metadata": {},
   "outputs": [],
   "source": [
    "merge_1 = active_studs.merge(checks, how='left', on='unique_id')"
   ]
  },
  {
   "cell_type": "code",
   "execution_count": 127,
   "metadata": {},
   "outputs": [
    {
     "data": {
      "text/plain": [
       "(8341, 2)"
      ]
     },
     "execution_count": 127,
     "metadata": {},
     "output_type": "execute_result"
    }
   ],
   "source": [
    "merge_1.shape"
   ]
  },
  {
   "cell_type": "code",
   "execution_count": 128,
   "metadata": {},
   "outputs": [
    {
     "data": {
      "text/plain": [
       "unique_id       0\n",
       "rev          7949\n",
       "dtype: int64"
      ]
     },
     "execution_count": 128,
     "metadata": {},
     "output_type": "execute_result"
    }
   ],
   "source": [
    "merge_1.isna().sum()"
   ]
  },
  {
   "cell_type": "code",
   "execution_count": 129,
   "metadata": {},
   "outputs": [
    {
     "data": {
      "text/html": [
       "<div>\n",
       "<style scoped>\n",
       "    .dataframe tbody tr th:only-of-type {\n",
       "        vertical-align: middle;\n",
       "    }\n",
       "\n",
       "    .dataframe tbody tr th {\n",
       "        vertical-align: top;\n",
       "    }\n",
       "\n",
       "    .dataframe thead th {\n",
       "        text-align: right;\n",
       "    }\n",
       "</style>\n",
       "<table border=\"1\" class=\"dataframe\">\n",
       "  <thead>\n",
       "    <tr style=\"text-align: right;\">\n",
       "      <th></th>\n",
       "      <th>unique_id</th>\n",
       "      <th>rev</th>\n",
       "    </tr>\n",
       "  </thead>\n",
       "  <tbody>\n",
       "    <tr>\n",
       "      <th>0</th>\n",
       "      <td>581585</td>\n",
       "      <td>NaN</td>\n",
       "    </tr>\n",
       "    <tr>\n",
       "      <th>1</th>\n",
       "      <td>5723133</td>\n",
       "      <td>NaN</td>\n",
       "    </tr>\n",
       "    <tr>\n",
       "      <th>2</th>\n",
       "      <td>3276743</td>\n",
       "      <td>NaN</td>\n",
       "    </tr>\n",
       "  </tbody>\n",
       "</table>\n",
       "</div>"
      ],
      "text/plain": [
       "   unique_id  rev\n",
       "0     581585  NaN\n",
       "1    5723133  NaN\n",
       "2    3276743  NaN"
      ]
     },
     "execution_count": 129,
     "metadata": {},
     "output_type": "execute_result"
    }
   ],
   "source": [
    "merge_1[:3]"
   ]
  },
  {
   "cell_type": "code",
   "execution_count": 130,
   "metadata": {},
   "outputs": [],
   "source": [
    "# Заменил пропуски нулями.\n",
    "merge_1 = merge_1.fillna(0)"
   ]
  },
  {
   "cell_type": "code",
   "execution_count": 131,
   "metadata": {},
   "outputs": [
    {
     "data": {
      "text/plain": [
       "unique_id    0\n",
       "rev          0\n",
       "dtype: int64"
      ]
     },
     "execution_count": 131,
     "metadata": {},
     "output_type": "execute_result"
    }
   ],
   "source": [
    "merge_1.isna().sum()"
   ]
  },
  {
   "cell_type": "code",
   "execution_count": 132,
   "metadata": {},
   "outputs": [],
   "source": [
    "merge_concat = pd.concat([groups, groups_add], ignore_index=True)"
   ]
  },
  {
   "cell_type": "code",
   "execution_count": 133,
   "metadata": {},
   "outputs": [],
   "source": [
    "merge_2 = merge_1.merge(merge_concat, how='inner', on='unique_id')"
   ]
  },
  {
   "cell_type": "code",
   "execution_count": 134,
   "metadata": {},
   "outputs": [
    {
     "data": {
      "text/html": [
       "<div>\n",
       "<style scoped>\n",
       "    .dataframe tbody tr th:only-of-type {\n",
       "        vertical-align: middle;\n",
       "    }\n",
       "\n",
       "    .dataframe tbody tr th {\n",
       "        vertical-align: top;\n",
       "    }\n",
       "\n",
       "    .dataframe thead th {\n",
       "        text-align: right;\n",
       "    }\n",
       "</style>\n",
       "<table border=\"1\" class=\"dataframe\">\n",
       "  <thead>\n",
       "    <tr style=\"text-align: right;\">\n",
       "      <th></th>\n",
       "      <th>unique_id</th>\n",
       "      <th>rev</th>\n",
       "      <th>grp</th>\n",
       "    </tr>\n",
       "  </thead>\n",
       "  <tbody>\n",
       "    <tr>\n",
       "      <th>0</th>\n",
       "      <td>581585</td>\n",
       "      <td>0.0</td>\n",
       "      <td>A</td>\n",
       "    </tr>\n",
       "    <tr>\n",
       "      <th>1</th>\n",
       "      <td>5723133</td>\n",
       "      <td>0.0</td>\n",
       "      <td>A</td>\n",
       "    </tr>\n",
       "    <tr>\n",
       "      <th>2</th>\n",
       "      <td>3276743</td>\n",
       "      <td>0.0</td>\n",
       "      <td>B</td>\n",
       "    </tr>\n",
       "    <tr>\n",
       "      <th>3</th>\n",
       "      <td>4238589</td>\n",
       "      <td>0.0</td>\n",
       "      <td>A</td>\n",
       "    </tr>\n",
       "    <tr>\n",
       "      <th>4</th>\n",
       "      <td>4475369</td>\n",
       "      <td>0.0</td>\n",
       "      <td>B</td>\n",
       "    </tr>\n",
       "    <tr>\n",
       "      <th>...</th>\n",
       "      <td>...</td>\n",
       "      <td>...</td>\n",
       "      <td>...</td>\n",
       "    </tr>\n",
       "    <tr>\n",
       "      <th>8336</th>\n",
       "      <td>1794344</td>\n",
       "      <td>0.0</td>\n",
       "      <td>B</td>\n",
       "    </tr>\n",
       "    <tr>\n",
       "      <th>8337</th>\n",
       "      <td>296883</td>\n",
       "      <td>0.0</td>\n",
       "      <td>B</td>\n",
       "    </tr>\n",
       "    <tr>\n",
       "      <th>8338</th>\n",
       "      <td>3598448</td>\n",
       "      <td>0.0</td>\n",
       "      <td>B</td>\n",
       "    </tr>\n",
       "    <tr>\n",
       "      <th>8339</th>\n",
       "      <td>3610547</td>\n",
       "      <td>290.0</td>\n",
       "      <td>B</td>\n",
       "    </tr>\n",
       "    <tr>\n",
       "      <th>8340</th>\n",
       "      <td>205705</td>\n",
       "      <td>0.0</td>\n",
       "      <td>B</td>\n",
       "    </tr>\n",
       "  </tbody>\n",
       "</table>\n",
       "<p>8341 rows × 3 columns</p>\n",
       "</div>"
      ],
      "text/plain": [
       "      unique_id    rev grp\n",
       "0        581585    0.0   A\n",
       "1       5723133    0.0   A\n",
       "2       3276743    0.0   B\n",
       "3       4238589    0.0   A\n",
       "4       4475369    0.0   B\n",
       "...         ...    ...  ..\n",
       "8336    1794344    0.0   B\n",
       "8337     296883    0.0   B\n",
       "8338    3598448    0.0   B\n",
       "8339    3610547  290.0   B\n",
       "8340     205705    0.0   B\n",
       "\n",
       "[8341 rows x 3 columns]"
      ]
     },
     "execution_count": 134,
     "metadata": {},
     "output_type": "execute_result"
    }
   ],
   "source": [
    "merge_2"
   ]
  },
  {
   "cell_type": "markdown",
   "metadata": {},
   "source": [
    "Необходимо создать дополнительную колонку,где 1 - совершил покупку, 0 - не совершил покупку. "
   ]
  },
  {
   "cell_type": "code",
   "execution_count": 135,
   "metadata": {},
   "outputs": [],
   "source": [
    "merge_2['purchase'] = np.where(merge_2['rev'] != 0, 1, 0)"
   ]
  },
  {
   "cell_type": "code",
   "execution_count": 136,
   "metadata": {
    "scrolled": false
   },
   "outputs": [
    {
     "data": {
      "text/html": [
       "<div>\n",
       "<style scoped>\n",
       "    .dataframe tbody tr th:only-of-type {\n",
       "        vertical-align: middle;\n",
       "    }\n",
       "\n",
       "    .dataframe tbody tr th {\n",
       "        vertical-align: top;\n",
       "    }\n",
       "\n",
       "    .dataframe thead th {\n",
       "        text-align: right;\n",
       "    }\n",
       "</style>\n",
       "<table border=\"1\" class=\"dataframe\">\n",
       "  <thead>\n",
       "    <tr style=\"text-align: right;\">\n",
       "      <th></th>\n",
       "      <th>unique_id</th>\n",
       "      <th>rev</th>\n",
       "      <th>grp</th>\n",
       "      <th>purchase</th>\n",
       "    </tr>\n",
       "  </thead>\n",
       "  <tbody>\n",
       "    <tr>\n",
       "      <th>0</th>\n",
       "      <td>581585</td>\n",
       "      <td>0.0</td>\n",
       "      <td>A</td>\n",
       "      <td>0</td>\n",
       "    </tr>\n",
       "    <tr>\n",
       "      <th>1</th>\n",
       "      <td>5723133</td>\n",
       "      <td>0.0</td>\n",
       "      <td>A</td>\n",
       "      <td>0</td>\n",
       "    </tr>\n",
       "    <tr>\n",
       "      <th>2</th>\n",
       "      <td>3276743</td>\n",
       "      <td>0.0</td>\n",
       "      <td>B</td>\n",
       "      <td>0</td>\n",
       "    </tr>\n",
       "    <tr>\n",
       "      <th>3</th>\n",
       "      <td>4238589</td>\n",
       "      <td>0.0</td>\n",
       "      <td>A</td>\n",
       "      <td>0</td>\n",
       "    </tr>\n",
       "    <tr>\n",
       "      <th>4</th>\n",
       "      <td>4475369</td>\n",
       "      <td>0.0</td>\n",
       "      <td>B</td>\n",
       "      <td>0</td>\n",
       "    </tr>\n",
       "    <tr>\n",
       "      <th>...</th>\n",
       "      <td>...</td>\n",
       "      <td>...</td>\n",
       "      <td>...</td>\n",
       "      <td>...</td>\n",
       "    </tr>\n",
       "    <tr>\n",
       "      <th>8336</th>\n",
       "      <td>1794344</td>\n",
       "      <td>0.0</td>\n",
       "      <td>B</td>\n",
       "      <td>0</td>\n",
       "    </tr>\n",
       "    <tr>\n",
       "      <th>8337</th>\n",
       "      <td>296883</td>\n",
       "      <td>0.0</td>\n",
       "      <td>B</td>\n",
       "      <td>0</td>\n",
       "    </tr>\n",
       "    <tr>\n",
       "      <th>8338</th>\n",
       "      <td>3598448</td>\n",
       "      <td>0.0</td>\n",
       "      <td>B</td>\n",
       "      <td>0</td>\n",
       "    </tr>\n",
       "    <tr>\n",
       "      <th>8339</th>\n",
       "      <td>3610547</td>\n",
       "      <td>290.0</td>\n",
       "      <td>B</td>\n",
       "      <td>1</td>\n",
       "    </tr>\n",
       "    <tr>\n",
       "      <th>8340</th>\n",
       "      <td>205705</td>\n",
       "      <td>0.0</td>\n",
       "      <td>B</td>\n",
       "      <td>0</td>\n",
       "    </tr>\n",
       "  </tbody>\n",
       "</table>\n",
       "<p>8341 rows × 4 columns</p>\n",
       "</div>"
      ],
      "text/plain": [
       "      unique_id    rev grp  purchase\n",
       "0        581585    0.0   A         0\n",
       "1       5723133    0.0   A         0\n",
       "2       3276743    0.0   B         0\n",
       "3       4238589    0.0   A         0\n",
       "4       4475369    0.0   B         0\n",
       "...         ...    ...  ..       ...\n",
       "8336    1794344    0.0   B         0\n",
       "8337     296883    0.0   B         0\n",
       "8338    3598448    0.0   B         0\n",
       "8339    3610547  290.0   B         1\n",
       "8340     205705    0.0   B         0\n",
       "\n",
       "[8341 rows x 4 columns]"
      ]
     },
     "execution_count": 136,
     "metadata": {},
     "output_type": "execute_result"
    }
   ],
   "source": [
    "merge_2"
   ]
  },
  {
   "cell_type": "code",
   "execution_count": 137,
   "metadata": {},
   "outputs": [
    {
     "data": {
      "text/plain": [
       "unique_id    0\n",
       "rev          0\n",
       "grp          0\n",
       "purchase     0\n",
       "dtype: int64"
      ]
     },
     "execution_count": 137,
     "metadata": {},
     "output_type": "execute_result"
    }
   ],
   "source": [
    "merge_2.isna().sum()"
   ]
  },
  {
   "cell_type": "code",
   "execution_count": 138,
   "metadata": {},
   "outputs": [
    {
     "data": {
      "text/plain": [
       "0"
      ]
     },
     "execution_count": 138,
     "metadata": {},
     "output_type": "execute_result"
    }
   ],
   "source": [
    "merge_2['unique_id'].duplicated().sum()"
   ]
  },
  {
   "cell_type": "code",
   "execution_count": 139,
   "metadata": {},
   "outputs": [
    {
     "data": {
      "text/plain": [
       "B    81.560964\n",
       "A    18.439036\n",
       "Name: grp, dtype: float64"
      ]
     },
     "execution_count": 139,
     "metadata": {},
     "output_type": "execute_result"
    }
   ],
   "source": [
    "(merge_2.grp.value_counts() / merge_2.shape[0]).mul(100)"
   ]
  },
  {
   "cell_type": "code",
   "execution_count": 140,
   "metadata": {},
   "outputs": [
    {
     "data": {
      "text/plain": [
       "unique_id    1538\n",
       "rev          1538\n",
       "grp          1538\n",
       "purchase     1538\n",
       "dtype: int64"
      ]
     },
     "execution_count": 140,
     "metadata": {},
     "output_type": "execute_result"
    }
   ],
   "source": [
    "merge_2.query(\"grp == 'A'\").count()"
   ]
  },
  {
   "cell_type": "code",
   "execution_count": 141,
   "metadata": {},
   "outputs": [
    {
     "data": {
      "text/plain": [
       "unique_id    6803\n",
       "rev          6803\n",
       "grp          6803\n",
       "purchase     6803\n",
       "dtype: int64"
      ]
     },
     "execution_count": 141,
     "metadata": {},
     "output_type": "execute_result"
    }
   ],
   "source": [
    "merge_2.query(\"grp == 'B'\").count()"
   ]
  },
  {
   "cell_type": "code",
   "execution_count": null,
   "metadata": {},
   "outputs": [],
   "source": []
  },
  {
   "cell_type": "code",
   "execution_count": 142,
   "metadata": {},
   "outputs": [],
   "source": [
    "merge_3 = active_studs.merge(merge_concat.merge(checks, on='unique_id'), on='unique_id')"
   ]
  },
  {
   "cell_type": "code",
   "execution_count": 143,
   "metadata": {},
   "outputs": [],
   "source": [
    "merge_3 = merge_3.round()"
   ]
  },
  {
   "cell_type": "code",
   "execution_count": 144,
   "metadata": {},
   "outputs": [
    {
     "data": {
      "text/html": [
       "<div>\n",
       "<style scoped>\n",
       "    .dataframe tbody tr th:only-of-type {\n",
       "        vertical-align: middle;\n",
       "    }\n",
       "\n",
       "    .dataframe tbody tr th {\n",
       "        vertical-align: top;\n",
       "    }\n",
       "\n",
       "    .dataframe thead th {\n",
       "        text-align: right;\n",
       "    }\n",
       "</style>\n",
       "<table border=\"1\" class=\"dataframe\">\n",
       "  <thead>\n",
       "    <tr style=\"text-align: right;\">\n",
       "      <th></th>\n",
       "      <th>unique_id</th>\n",
       "      <th>grp</th>\n",
       "      <th>rev</th>\n",
       "    </tr>\n",
       "  </thead>\n",
       "  <tbody>\n",
       "    <tr>\n",
       "      <th>0</th>\n",
       "      <td>1184303</td>\n",
       "      <td>A</td>\n",
       "      <td>1530.0</td>\n",
       "    </tr>\n",
       "    <tr>\n",
       "      <th>1</th>\n",
       "      <td>3354191</td>\n",
       "      <td>B</td>\n",
       "      <td>1900.0</td>\n",
       "    </tr>\n",
       "    <tr>\n",
       "      <th>2</th>\n",
       "      <td>3278734</td>\n",
       "      <td>B</td>\n",
       "      <td>1900.0</td>\n",
       "    </tr>\n",
       "    <tr>\n",
       "      <th>3</th>\n",
       "      <td>720651</td>\n",
       "      <td>A</td>\n",
       "      <td>1980.0</td>\n",
       "    </tr>\n",
       "    <tr>\n",
       "      <th>4</th>\n",
       "      <td>1232221</td>\n",
       "      <td>B</td>\n",
       "      <td>1900.0</td>\n",
       "    </tr>\n",
       "    <tr>\n",
       "      <th>...</th>\n",
       "      <td>...</td>\n",
       "      <td>...</td>\n",
       "      <td>...</td>\n",
       "    </tr>\n",
       "    <tr>\n",
       "      <th>387</th>\n",
       "      <td>3890326</td>\n",
       "      <td>B</td>\n",
       "      <td>199.0</td>\n",
       "    </tr>\n",
       "    <tr>\n",
       "      <th>388</th>\n",
       "      <td>1390994</td>\n",
       "      <td>A</td>\n",
       "      <td>398.0</td>\n",
       "    </tr>\n",
       "    <tr>\n",
       "      <th>389</th>\n",
       "      <td>1516339</td>\n",
       "      <td>A</td>\n",
       "      <td>290.0</td>\n",
       "    </tr>\n",
       "    <tr>\n",
       "      <th>390</th>\n",
       "      <td>3910596</td>\n",
       "      <td>B</td>\n",
       "      <td>597.0</td>\n",
       "    </tr>\n",
       "    <tr>\n",
       "      <th>391</th>\n",
       "      <td>3610547</td>\n",
       "      <td>B</td>\n",
       "      <td>290.0</td>\n",
       "    </tr>\n",
       "  </tbody>\n",
       "</table>\n",
       "<p>392 rows × 3 columns</p>\n",
       "</div>"
      ],
      "text/plain": [
       "     unique_id grp     rev\n",
       "0      1184303   A  1530.0\n",
       "1      3354191   B  1900.0\n",
       "2      3278734   B  1900.0\n",
       "3       720651   A  1980.0\n",
       "4      1232221   B  1900.0\n",
       "..         ...  ..     ...\n",
       "387    3890326   B   199.0\n",
       "388    1390994   A   398.0\n",
       "389    1516339   A   290.0\n",
       "390    3910596   B   597.0\n",
       "391    3610547   B   290.0\n",
       "\n",
       "[392 rows x 3 columns]"
      ]
     },
     "execution_count": 144,
     "metadata": {},
     "output_type": "execute_result"
    }
   ],
   "source": [
    "merge_3 "
   ]
  },
  {
   "cell_type": "code",
   "execution_count": 145,
   "metadata": {},
   "outputs": [
    {
     "data": {
      "text/plain": [
       "(392, 3)"
      ]
     },
     "execution_count": 145,
     "metadata": {},
     "output_type": "execute_result"
    }
   ],
   "source": [
    "merge_3.shape"
   ]
  },
  {
   "cell_type": "code",
   "execution_count": 146,
   "metadata": {},
   "outputs": [
    {
     "data": {
      "text/plain": [
       "unique_id    0\n",
       "grp          0\n",
       "rev          0\n",
       "dtype: int64"
      ]
     },
     "execution_count": 146,
     "metadata": {},
     "output_type": "execute_result"
    }
   ],
   "source": [
    "merge_3.isna().sum()"
   ]
  },
  {
   "cell_type": "code",
   "execution_count": 147,
   "metadata": {},
   "outputs": [
    {
     "data": {
      "text/plain": [
       "0"
      ]
     },
     "execution_count": 147,
     "metadata": {},
     "output_type": "execute_result"
    }
   ],
   "source": [
    "merge_3['unique_id'].duplicated().sum()"
   ]
  },
  {
   "cell_type": "code",
   "execution_count": 148,
   "metadata": {},
   "outputs": [
    {
     "data": {
      "text/plain": [
       "B    80.102041\n",
       "A    19.897959\n",
       "Name: grp, dtype: float64"
      ]
     },
     "execution_count": 148,
     "metadata": {},
     "output_type": "execute_result"
    }
   ],
   "source": [
    "(merge_3.grp.value_counts() / merge_3.shape[0]).mul(100)"
   ]
  },
  {
   "cell_type": "code",
   "execution_count": 149,
   "metadata": {},
   "outputs": [
    {
     "data": {
      "text/plain": [
       "unique_id    78\n",
       "grp          78\n",
       "rev          78\n",
       "dtype: int64"
      ]
     },
     "execution_count": 149,
     "metadata": {},
     "output_type": "execute_result"
    }
   ],
   "source": [
    "merge_3.query(\"grp == 'A'\").count()"
   ]
  },
  {
   "cell_type": "code",
   "execution_count": 150,
   "metadata": {},
   "outputs": [
    {
     "data": {
      "text/plain": [
       "unique_id    314\n",
       "grp          314\n",
       "rev          314\n",
       "dtype: int64"
      ]
     },
     "execution_count": 150,
     "metadata": {},
     "output_type": "execute_result"
    }
   ],
   "source": [
    "merge_3.query(\"grp == 'B'\").count()"
   ]
  },
  {
   "cell_type": "markdown",
   "metadata": {},
   "source": [
    "При визуализации боксплота было обнаружено наличие выбросов как в группе А, так и в группе В. Это может существенно ограничить наши возможности при выборе метода для оценки статистических показателей."
   ]
  },
  {
   "cell_type": "code",
   "execution_count": 151,
   "metadata": {},
   "outputs": [
    {
     "data": {
      "image/png": "[encoded data removed]",
      "text/plain": [
       "<Figure size 1152x648 with 1 Axes>"
      ]
     },
     "metadata": {},
     "output_type": "display_data"
    }
   ],
   "source": [
    "sns.set(style=\"whitegrid\")\n",
    "plt.figure(figsize=(16, 9))\n",
    "sns.boxplot(x='grp', y='rev', data=merge_2.query('rev!=0'))\n",
    "plt.xlabel('Groups', fontsize=16, labelpad=15)\n",
    "plt.ylabel('Revenue', fontsize=16, labelpad=15)\n",
    "plt.title(\"Group Purchases\", fontsize=20, pad=20)\n",
    "plt.xticks(rotation=45, fontsize=14)\n",
    "plt.yticks(fontsize=14)\n",
    "sns.despine()\n",
    "plt.show()"
   ]
  },
  {
   "cell_type": "markdown",
   "metadata": {},
   "source": [
    "Из графиков видно, что распределения данных значительно отличаются от нормальных. Это подчеркивает необходимость особого внимания при анализе и использовании альтернативных методов и подходов для получения достоверных результатов."
   ]
  },
  {
   "cell_type": "code",
   "execution_count": 152,
   "metadata": {},
   "outputs": [
    {
     "data": {
      "image/png": "[encoded data removed]",
      "text/plain": [
       "<Figure size 1152x648 with 1 Axes>"
      ]
     },
     "metadata": {},
     "output_type": "display_data"
    }
   ],
   "source": [
    "# построение распределения данных групп о покупках среди покупающих пользователей\n",
    "sns.set(style=\"whitegrid\")\n",
    "plt.figure(figsize=(16, 9))\n",
    "sns.histplot(x=merge_3.rev, hue=merge_3.grp, data=checks, bins=20, kde=True)\n",
    "plt.xlabel('Revenue', fontsize=16, labelpad=15)\n",
    "plt.ylabel('Count', fontsize=16, labelpad=15)\n",
    "plt.title(\"Histogram of revenue by groups\", fontsize=20, pad=20)\n",
    "plt.grid(True, which='major', axis='both', linestyle='--', alpha=0.5)\n",
    "plt.show()"
   ]
  },
  {
   "cell_type": "markdown",
   "metadata": {},
   "source": [
    "Было принято решение использовать метод бутстрэпа. Этот метод особенно ценен в случаях, когда имеются ограничения по данным или данные не соответствуют стандартным предположениям о распределении."
   ]
  },
  {
   "cell_type": "code",
   "execution_count": 153,
   "metadata": {},
   "outputs": [],
   "source": [
    "def get_bootstrap(\n",
    "        data_column_1,  # числовые значения первой выборки\n",
    "        data_column_2,  # числовые значения второй выборки\n",
    "        boot_it=1000,  # количество бутстрэп-подвыборок\n",
    "        statistic=np.median,  # интересующая нас статистика\n",
    "        bootstrap_conf_level=0.99):  # уровень значимости\n",
    "    boot_len = max([len(data_column_1), len(data_column_2)])\n",
    "    boot_data = []\n",
    "    for i in tqdm(range(boot_it)):  # извлекаем подвыборки\n",
    "        samples_1 = data_column_1.sample(\n",
    "            boot_len,\n",
    "            replace=True  # параметр возвращения\n",
    "        ).values\n",
    "        samples_2 = data_column_2.sample(\n",
    "            boot_len,\n",
    "            replace=True\n",
    "        ).values\n",
    "        boot_data.append(statistic(samples_2 - samples_1))  # применяем статистику\n",
    "    pd_boot_data = pd.DataFrame(boot_data)\n",
    "    left_quant = (1 - bootstrap_conf_level) / 2\n",
    "    right_quant = 1 - (1 - bootstrap_conf_level) / 2\n",
    "    ci = pd_boot_data.quantile([left_quant, right_quant])\n",
    "    p_1 = norm.cdf(\n",
    "        x=0,\n",
    "        loc=np.mean(boot_data),\n",
    "        scale=np.std(boot_data)\n",
    "    )\n",
    "    p_2 = norm.cdf(\n",
    "        x=0,\n",
    "        loc=-np.mean(boot_data),\n",
    "        scale=np.std(boot_data)\n",
    "    )\n",
    "    p_value = min(p_1, p_2) * 2\n",
    "    #  Визуализация\n",
    "    plt.figure(figsize=(20, 10))\n",
    "    #  plt.hist()\n",
    "    sns.histplot(x=pd_boot_data[0], bins=50)\n",
    "    #  plt.style.use('ggplot')    \n",
    "    plt.vlines(ci, ymin=0, ymax=50, linestyle='--')\n",
    "    plt.xlabel('boot_data')\n",
    "    plt.ylabel('frequency')\n",
    "    plt.title(\"Histogram of boot_data\")\n",
    "    plt.show()\n",
    "    return {\"boot_data\": boot_data,\n",
    "            \"ci\": ci,\n",
    "            \"p_value\": p_value}"
   ]
  },
  {
   "cell_type": "markdown",
   "metadata": {},
   "source": [
    "Первая метрика:\"Average Revenue Per Paying User\" (ARPPU) - это показатель, который часто используется для измерения среднего дохода с каждого платящего пользователя. При наличии соответствующих данных вычислить этот показатель довольно удобно."
   ]
  },
  {
   "cell_type": "code",
   "execution_count": 154,
   "metadata": {},
   "outputs": [
    {
     "name": "stderr",
     "output_type": "stream",
     "text": [
      "100%|██████████| 10000/10000 [00:07<00:00, 1427.98it/s]\n"
     ]
    },
    {
     "data": {
      "image/png": "[encoded data removed]",
      "text/plain": [
       "<Figure size 1440x720 with 1 Axes>"
      ]
     },
     "metadata": {},
     "output_type": "display_data"
    }
   ],
   "source": [
    "boot_data = get_bootstrap(\n",
    "    merge_2[merge_2.grp == \"A\"].rev,  # контрольная группа\n",
    "    merge_2[merge_2.grp == \"B\"].rev,  # целевая группа\n",
    "    boot_it=10000,  # количество бутстрэп-подвыборок\n",
    "    statistic=np.mean,  # интересующая нас статистика\n",
    "    bootstrap_conf_level=0.95)  # уровень значимости"
   ]
  },
  {
   "cell_type": "code",
   "execution_count": 155,
   "metadata": {},
   "outputs": [
    {
     "name": "stdout",
     "output_type": "stream",
     "text": [
      "0.040927099632541306\n"
     ]
    }
   ],
   "source": [
    "print(boot_data['p_value'])"
   ]
  },
  {
   "cell_type": "code",
   "execution_count": 156,
   "metadata": {},
   "outputs": [
    {
     "name": "stderr",
     "output_type": "stream",
     "text": [
      "100%|██████████| 10000/10000 [00:03<00:00, 3035.37it/s]\n"
     ]
    },
    {
     "data": {
      "image/png": "[encoded data removed]",
      "text/plain": [
       "<Figure size 1440x720 with 1 Axes>"
      ]
     },
     "metadata": {},
     "output_type": "display_data"
    }
   ],
   "source": [
    "boot_data = get_bootstrap(\n",
    "    merge_3[merge_3.grp == \"A\"].rev,  # контрольная группа\n",
    "    merge_3[merge_3.grp == \"B\"].rev,  # целевая группа\n",
    "    boot_it=10000,  # количество бутстрэп-подвыборок\n",
    "    statistic=np.median,  # интересующая нас статистика\n",
    "    bootstrap_conf_level=0.95)  # уровень значимости"
   ]
  },
  {
   "cell_type": "code",
   "execution_count": 157,
   "metadata": {},
   "outputs": [
    {
     "name": "stdout",
     "output_type": "stream",
     "text": [
      "2.1281589344539592e-05\n"
     ]
    }
   ],
   "source": [
    "# p-значение\n",
    "print(boot_data['p_value'])"
   ]
  },
  {
   "cell_type": "code",
   "execution_count": 158,
   "metadata": {},
   "outputs": [
    {
     "name": "stdout",
     "output_type": "stream",
     "text": [
      "              0\n",
      "0.025  210.4750\n",
      "0.975  565.1125\n"
     ]
    }
   ],
   "source": [
    "# Доверительный интервал\n",
    "print(boot_data['ci'])"
   ]
  },
  {
   "cell_type": "code",
   "execution_count": 159,
   "metadata": {},
   "outputs": [],
   "source": [
    "group_A = merge_3[merge_3['grp'] == 'A']\n",
    "group_B = merge_3[merge_3['grp'] == 'B']"
   ]
  },
  {
   "cell_type": "markdown",
   "metadata": {},
   "source": [
    "Расчет Average Revenue Per Paying User для группы A и B."
   ]
  },
  {
   "cell_type": "code",
   "execution_count": 160,
   "metadata": {},
   "outputs": [],
   "source": [
    "ARPPU_A = group_A['rev'].sum() / group_A['unique_id'].nunique()"
   ]
  },
  {
   "cell_type": "code",
   "execution_count": 161,
   "metadata": {},
   "outputs": [],
   "source": [
    "ARPPU_B = group_B['rev'].sum() / group_B['unique_id'].nunique()"
   ]
  },
  {
   "cell_type": "markdown",
   "metadata": {},
   "source": [
    "Расчет разницы между ARPPU групп A и B в процентах."
   ]
  },
  {
   "cell_type": "code",
   "execution_count": 162,
   "metadata": {},
   "outputs": [],
   "source": [
    "difference_percent = round(((ARPPU_B - ARPPU_A) / ARPPU_A * 100), 1)"
   ]
  },
  {
   "cell_type": "code",
   "execution_count": 163,
   "metadata": {
    "scrolled": true
   },
   "outputs": [
    {
     "name": "stdout",
     "output_type": "stream",
     "text": [
      "ARPPU группы A: 933.5897435897435\n",
      "ARPPU группы B: 1257.8789808917197\n",
      "Целевая группа B больше контрольной группы A на: 34.7%\n"
     ]
    }
   ],
   "source": [
    "print('ARPPU группы A:', ARPPU_A)\n",
    "print('ARPPU группы B:', ARPPU_B)\n",
    "print(f'Целевая группа B больше контрольной группы A на: {difference_percent}%')"
   ]
  },
  {
   "cell_type": "code",
   "execution_count": 164,
   "metadata": {},
   "outputs": [
    {
     "data": {
      "image/png": "[encoded data removed]",
      "text/plain": [
       "<Figure size 1152x648 with 1 Axes>"
      ]
     },
     "metadata": {},
     "output_type": "display_data"
    }
   ],
   "source": [
    "sns.set(style=\"whitegrid\")\n",
    "plt.figure(figsize=(16, 9))\n",
    "sns.countplot(x=\"purchase\", hue=\"grp\", data=merge_2, palette=\"pastel\")  \n",
    "plt.xlabel(\"Purchase\", fontsize=16, labelpad=15)\n",
    "plt.ylabel(\"Count\", fontsize=16, labelpad=15)\n",
    "plt.title(\"Count of Purchases by Group\", fontsize=20, pad=20)\n",
    "plt.legend(title=\"Group\", loc=\"upper right\", fontsize=14)\n",
    "plt.grid(True, which='major', axis='both', linestyle='--', alpha=0.5)\n",
    "plt.show()"
   ]
  },
  {
   "cell_type": "code",
   "execution_count": 165,
   "metadata": {},
   "outputs": [
    {
     "name": "stdout",
     "output_type": "stream",
     "text": [
      "purchase     0    1  conversion\n",
      "grp                            \n",
      "A         1460   78    0.050715\n",
      "B         6489  314    0.046156\n"
     ]
    }
   ],
   "source": [
    "def calculate_conversion(row):\n",
    "  \n",
    "  return row[1] / row.sum()  \n",
    "\n",
    "conversion = pd.crosstab(merge_2.grp, merge_2.purchase)\n",
    "conversion['conversion'] = conversion.apply(calculate_conversion, axis=1)\n",
    "\n",
    "print(conversion) "
   ]
  },
  {
   "cell_type": "code",
   "execution_count": 166,
   "metadata": {},
   "outputs": [
    {
     "name": "stdout",
     "output_type": "stream",
     "text": [
      "p-value = 0.66\n"
     ]
    }
   ],
   "source": [
    "stat, p, dof, expected = stats.chi2_contingency(conversion)\n",
    "prob = 0.95\n",
    "critical = stats.chi2.ppf(prob, dof)\n",
    "print('p-value =', round(stat, 2)) "
   ]
  },
  {
   "cell_type": "markdown",
   "metadata": {},
   "source": [
    "Сформулируем нулевую и альтернативную гипотезы:\n",
    "\n",
    "H0: ARPPU, CR в двух группах одинаковые.\n",
    "\n",
    "H1: ARPPU, CR в двух группах различаются."
   ]
  },
  {
   "cell_type": "markdown",
   "metadata": {},
   "source": [
    "Бутстрап-тест показал p-value > 0,05 для ARPPU, что не позволяет нам отвергнуть нулевую гипотезу о равенстве ARPPU в двух группах.  Доверительный интервал для ARPPU не проходит через 0, что указывает на статистически значимое различие между группами.  ARPPU группы B отличается от группы A на 34.7%. Несмотря на то, что тест не позволяет отвергнуть H0,  доверительный интервал  указывает на различие. Это значит, что наблюдаемое различие в ARPPU, вероятно, неслучайно. \n",
    "\n",
    "Критерий хи-квадрат не выявил статистически значимых различий в CR между группами.  Бутстрап-тест также показал p-value > 0,05, подтверждая отсутствие статистически значимых различий.  Мы не можем отвергнуть нулевую гипотезу о равенстве CR в двух группах.  Значительный эффект на показатели СR не подтвердился.  При этом увеличился показатель ARPPU.\n",
    "\n",
    "Внедрение новой механики оплаты необходимо, поскольку увеличение ARPPU свидетельствует о потенциальной эффективности.  Однако следует внимательно отслеживать влияние на CR и  провести дополнительный анализ для оптимизации и минимизации рисков."
   ]
  },
  {
   "cell_type": "markdown",
   "metadata": {},
   "source": [
    "Задание 2. SQL"
   ]
  },
  {
   "cell_type": "markdown",
   "metadata": {},
   "source": [
    "2.1 Очень усердные ученики.\n",
    "\n",
    "2.1.1 Условие\n",
    "\n",
    "Образовательные курсы состоят из различных уроков, каждый из которых состоит из нескольких маленьких заданий. Каждое такое маленькое задание называется \"горошиной\".\n",
    "\n",
    "Назовём очень усердным учеником того пользователя, который хотя бы раз за текущий месяц правильно решил 20 горошин."
   ]
  },
  {
   "cell_type": "markdown",
   "metadata": {},
   "source": [
    "2.1.2 Задача\n",
    "\n",
    "Дана таблица default.peas:\n",
    "Необходимо написать оптимальный запрос, который даст информацию о количестве очень усердных студентов.NB! Под усердным студентом мы понимаем студента, который правильно решил 20 задач за текущий месяц."
   ]
  },
  {
   "cell_type": "code",
   "execution_count": 167,
   "metadata": {},
   "outputs": [],
   "source": [
    "connection_default = {'host': 'https://clickhouse.lab.karpov.courses',\n",
    "                      'database':'default',\n",
    "                      'user':'student', \n",
    "                      'password':'dpo_python_2020'\n",
    "                     }"
   ]
  },
  {
   "cell_type": "code",
   "execution_count": 168,
   "metadata": {},
   "outputs": [],
   "source": [
    "q_1 = '''\n",
    "    SELECT\n",
    "      COUNT(DISTINCT st_id)\n",
    "    FROM\n",
    "      (\n",
    "    SELECT\n",
    "      st_id,\n",
    "      toDayOfMonth(timest) AS day,\n",
    "      toHour(timest) AS hour,\n",
    "      SUM(correct) AS SUM_correct\n",
    "    FROM peas\n",
    "    WHERE toStartOfMonth(timest) = '2020-03-01'\n",
    "    GROUP BY\n",
    "      st_id,\n",
    "      day,\n",
    "      hour\n",
    "    HAVING SUM_correct >= 20\n",
    "      )\n",
    "    '''"
   ]
  },
  {
   "cell_type": "code",
   "execution_count": 169,
   "metadata": {},
   "outputs": [],
   "source": [
    "numb_stud_dil = ph.read_clickhouse(query=q_1, connection=connection_default)"
   ]
  },
  {
   "cell_type": "code",
   "execution_count": 170,
   "metadata": {},
   "outputs": [
    {
     "name": "stdout",
     "output_type": "stream",
     "text": [
      "Количество очень усердных учеников:    uniqExact(st_id)\n",
      "0                 0\n"
     ]
    }
   ],
   "source": [
    "print(f\"Количество очень усердных учеников:\", numb_stud_dil)"
   ]
  },
  {
   "cell_type": "markdown",
   "metadata": {},
   "source": [
    "2.2 Оптимизация воронки\n",
    "\n",
    "2.2.1 Условие\n",
    "\n",
    "Образовательная платформа предлагает пройти студентам курсы по модели trial: студент может решить бесплатно лишь 30 горошин в день. Для неограниченного количества заданий в определенной дисциплине студенту необходимо приобрести полный доступ. Команда провела эксперимент, где был протестирован новый экран оплаты.\n",
    "\n",
    "2.2.2 Задача\n",
    "\n",
    "Дана таблицы: default.peas (см. выше), default.studs:"
   ]
  },
  {
   "cell_type": "markdown",
   "metadata": {},
   "source": [
    "Необходимо в одном запросе выгрузить следующую информацию о группах пользователей:\n",
    "\n",
    "ARPU \n",
    "ARPAU \n",
    "CR в покупку \n",
    "СR активного пользователя в покупку \n",
    "CR пользователя из активности по математике (subject = ’math’) в покупку курса по математике\n",
    "ARPU считается относительно всех пользователей, попавших в группы.\n",
    "\n",
    "Активным считается пользователь, за все время решивший больше 10 задач правильно в любых дисциплинах.\n",
    "\n",
    "Активным по математике считается пользователь, за все время решивший 2 или больше задач правильно по математике."
   ]
  },
  {
   "cell_type": "code",
   "execution_count": 171,
   "metadata": {},
   "outputs": [],
   "source": [
    "q_2 = '''\n",
    "   SELECT\n",
    "    test_grp,\n",
    "    sum(total_revenue) / uniqExact(st_id) as ARPU,\n",
    "    sumIf(total_revenue, active_stud=1) / uniqExactIf(st_id, active_stud=1) as ARPAU,\n",
    "    uniqExactIf(st_id, total_revenue > 0) / uniqExact(st_id) as CR,\n",
    "    uniqExactIf(st_id, active_stud=1 and total_revenue>0) / uniqExactIf(st_id, active_stud=1) as CR_active,\n",
    "    uniqExactIf(st_id, math_active_stud=1 and math_revenue>0) / uniqExactIf(st_id, math_active_stud=1) as CR_math_active\n",
    "   FROM\n",
    "    (\n",
    "    SELECT \n",
    "        l.test_grp as test_grp,\n",
    "        l.st_id as st_id,\n",
    "        r.active_stud as active_stud,\n",
    "        r.math_active_stud as math_active_stud,\n",
    "        r.total_revenue as total_revenue,\n",
    "        r.math_revenue as math_revenue\n",
    "    FROM\n",
    "        (\n",
    "        SELECT\n",
    "            test_grp,\n",
    "            st_id\n",
    "        FROM studs\n",
    "        ) l\n",
    "    LEFT JOIN\n",
    "        (\n",
    "        SELECT\n",
    "            l.st_id as st_id,\n",
    "            l.active_stud as active_stud,\n",
    "            l.math_active_stud as math_active_stud,\n",
    "            r.total_revenue as total_revenue,\n",
    "            r.math_revenue as math_revenue\n",
    "        FROM\n",
    "            (\n",
    "            SELECT\n",
    "                st_id,\n",
    "                if(sum(correct) > 10, 1, 0) as active_stud,\n",
    "                if(sumIf(correct, subject='Math') >= 2, 1, 0) as math_active_stud\n",
    "            FROM peas\n",
    "            GROUP BY\n",
    "                st_id\n",
    "            ) l\n",
    "        LEFT JOIN\n",
    "            (\n",
    "            SELECT\n",
    "                st_id,\n",
    "                sum(money) as total_revenue,\n",
    "                sumIf(money, subject='Math') as math_revenue\n",
    "            FROM final_project_check\n",
    "            GROUP BY st_id\n",
    "            ) r\n",
    "        ON l.st_id = r.st_id\n",
    "        ) r\n",
    "    ON l.st_id = r.st_id\n",
    "    )\n",
    "GROUP BY\n",
    "    test_grp;\n",
    "\n",
    "    '''"
   ]
  },
  {
   "cell_type": "code",
   "execution_count": 172,
   "metadata": {},
   "outputs": [],
   "source": [
    "result_metrics = ph.read_clickhouse(query=q_2, connection=connection_default)"
   ]
  },
  {
   "cell_type": "code",
   "execution_count": 173,
   "metadata": {},
   "outputs": [
    {
     "name": "stdout",
     "output_type": "stream",
     "text": [
      "  test_grp          ARPU         ARPAU        CR  CR_active  CR_math_active\n",
      "0  control   4540.983607  10393.700787  0.049180   0.110236        0.061224\n",
      "1    pilot  11067.796610  29739.583333  0.101695   0.260417        0.095238\n"
     ]
    }
   ],
   "source": [
    "print(result_metrics)"
   ]
  },
  {
   "cell_type": "markdown",
   "metadata": {},
   "source": [
    "Задание 3. Python"
   ]
  },
  {
   "cell_type": "markdown",
   "metadata": {},
   "source": [
    "Реализуйте функцию, которая будет автоматически подгружать информацию из дополнительного файла groups_add.csv (заголовки могут отличаться) и на основании дополнительных параметров пересчитывать метрики."
   ]
  },
  {
   "cell_type": "markdown",
   "metadata": {},
   "source": [
    "Реализуйте функцию, которая будет строить графики по получаемым метрикам."
   ]
  },
  {
   "cell_type": "code",
   "execution_count": 174,
   "metadata": {},
   "outputs": [],
   "source": [
    "def groups_add(groups, active_studs, checks, filename='Проект_2_group_add.csv'):\n",
    "    \"\"\"\n",
    "    Функция автоматически подгружает информацию из дополнительного файла groups_add.csv \n",
    "    и пересчитывает метрики.\n",
    "    \n",
    "    Args:\n",
    "        groups (pd.DataFrame): DataFrame с информацией о группах пользователей.\n",
    "        active_studs (pd.DataFrame): DataFrame с информацией об активных пользователях.\n",
    "        checks (pd.DataFrame): DataFrame с информацией о чеках.\n",
    "        filename (str, optional): Имя файла с дополнительной информацией о группах. Defaults to 'Проект_2_group_add.csv'.\n",
    "\n",
    "    Returns:\n",
    "        dict: Словарь с обновленными метриками.\n",
    "    \"\"\"\n",
    "    # Загружаем дополнительный файл \n",
    "    groups_add = pd.read_csv(filename, sep=',')\n",
    "    \n",
    "    # Переименовываем столбцы в groups_add, чтобы они соответствовали остальным DataFrame\n",
    "    groups_add.rename(columns={groups_add.columns[0]: 'unique_id', groups_add.columns[1]: 'grp'}, inplace=True)\n",
    "\n",
    "    # Объединяем DataFrame с группами\n",
    "    full_groups = groups.append(groups_add)\n",
    "\n",
    "    # Добавляем столбец \"active\" в active_studs \n",
    "    active_studs['active'] = 1\n",
    "\n",
    "    # Объединяем все DataFrame\n",
    "    full_data = pd.merge(full_groups, active_studs, on='unique_id', how='left')\n",
    "    full_data = pd.merge(full_data, checks, on='unique_id', how='left')\n",
    "    full_data = full_data.fillna(0)\n",
    "\n",
    "    # Считаем метрики\n",
    "    conv_table = pd.crosstab(full_data.grp, full_data.purchase)\n",
    "\n",
    "    arppu = pd.DataFrame({'grp': ['A', 'B'],\n",
    "                          'ARPPU': [\n",
    "                              full_data.query('grp == \"A\"').rev.sum() / full_data.query('grp == \"A\"').unique_id.nunique(),\n",
    "                              full_data.query('grp == \"B\"').rev.sum() / full_data.query('grp == \"B\"').unique_id.nunique()\n",
    "                          ]})\n",
    "    avg_check = pd.DataFrame({'grp': ['A', 'B'],\n",
    "                          'avg_check': [\n",
    "                              round(full_data.query('grp == \"A\" & rev > 0').rev.mean(), 1),\n",
    "                              round(full_data.query('grp == \"B\" & rev > 0').rev.mean(), 1)\n",
    "                          ]})\n",
    "    conversion = pd.DataFrame(conv_table[1] / conv_table[0]) \\\n",
    "        .reset_index() \\\n",
    "        .rename(columns={0: 'cr'})\n",
    "\n",
    "    return {'arppu': arppu,\n",
    "            'avg_check': avg_check,\n",
    "            'conversion': conversion}\n"
   ]
  },
  {
   "cell_type": "code",
   "execution_count": 175,
   "metadata": {},
   "outputs": [],
   "source": [
    "def plot_metrics(metrics):\n",
    "    \"\"\"\n",
    "    Строит графики по метрикам.\n",
    "    \n",
    "    Args:\n",
    "        metrics (dict): Словарь с метриками.\n",
    "    \"\"\"\n",
    "    fig, axes = plt.subplots(1, 3, figsize=(15, 5))\n",
    "\n",
    "    # ARPPU\n",
    "    axes[0].bar(metrics['arppu'].grp, metrics['arppu'].ARPPU, color=['blue', 'orange'])\n",
    "    axes[0].set_title('ARPPU')\n",
    "    axes[0].set_ylabel('ARPPU')\n",
    "\n",
    "    # Средний чек\n",
    "    axes[1].bar(metrics['avg_check'].grp, metrics['avg_check'].avg_check, color=['blue', 'orange'])\n",
    "    axes[1].set_title('Средний чек')\n",
    "    axes[1].set_ylabel('Средний чек')\n",
    "\n",
    "    # Конверсия\n",
    "    axes[2].bar(metrics['conversion'].grp, metrics['conversion'].cr, color=['blue', 'orange'])\n",
    "    axes[2].set_title('Конверсия')\n",
    "    axes[2].set_ylabel('CR')\n",
    "\n",
    "    plt.tight_layout()\n",
    "    plt.show()"
   ]
  },
  {
   "cell_type": "code",
   "execution_count": 176,
   "metadata": {},
   "outputs": [],
   "source": [
    "groups = pd.DataFrame({'unique_id': [1, 2, 3, 4, 5], 'grp': ['A', 'A', 'A', 'B', 'B']})"
   ]
  },
  {
   "cell_type": "code",
   "execution_count": 177,
   "metadata": {},
   "outputs": [],
   "source": [
    "active_studs = pd.DataFrame({'unique_id': [1, 2, 3, 4, 5], 'student_id': [1, 2, 3, 4, 5]})"
   ]
  },
  {
   "cell_type": "code",
   "execution_count": 178,
   "metadata": {},
   "outputs": [],
   "source": [
    "checks = pd.DataFrame({'unique_id': [1, 2, 4, 5], 'purchase': [1, 0, 1, 1], 'rev': [100, 0, 200, 150]})"
   ]
  },
  {
   "cell_type": "code",
   "execution_count": 179,
   "metadata": {},
   "outputs": [],
   "source": [
    "metrics = groups_add(groups, active_studs, checks)"
   ]
  },
  {
   "cell_type": "code",
   "execution_count": 180,
   "metadata": {},
   "outputs": [
    {
     "data": {
      "image/png": "[encoded data removed]",
      "text/plain": [
       "<Figure size 1080x360 with 3 Axes>"
      ]
     },
     "metadata": {},
     "output_type": "display_data"
    }
   ],
   "source": [
    "plot_metrics(metrics)"
   ]
  },
  {
   "cell_type": "code",
   "execution_count": null,
   "metadata": {},
   "outputs": [],
   "source": []
  }
 ],
 "metadata": {
  "kernelspec": {
   "display_name": "Python 3",
   "language": "python",
   "name": "python3"
  },
  "language_info": {
   "codemirror_mode": {
    "name": "ipython",
    "version": 3
   },
   "file_extension": ".py",
   "mimetype": "text/x-python",
   "name": "python",
   "nbconvert_exporter": "python",
   "pygments_lexer": "ipython3",
   "version": "3.7.3"
  }
 },
 "nbformat": 4,
 "nbformat_minor": 4
}
